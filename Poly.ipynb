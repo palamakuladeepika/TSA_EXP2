{
 "cells": [
  {
   "cell_type": "code",
   "execution_count": 3,
   "id": "ef9be00e-92eb-48c7-9e71-bf734d9d66a0",
   "metadata": {
    "tags": []
   },
   "outputs": [],
   "source": [
    "import pandas as pd\n",
    "import numpy as np\n",
    "import matplotlib.pyplot as plt\n",
    "from tabulate import tabulate\n",
    "%matplotlib inline\n",
    "train = pd.read_csv('AirPassengers.csv')"
   ]
  },
  {
   "cell_type": "code",
   "execution_count": 4,
   "id": "54c29f1d-bccf-4d61-887d-0f5dbf53f065",
   "metadata": {
    "tags": []
   },
   "outputs": [
    {
     "data": {
      "text/html": [
       "<div>\n",
       "<style scoped>\n",
       "    .dataframe tbody tr th:only-of-type {\n",
       "        vertical-align: middle;\n",
       "    }\n",
       "\n",
       "    .dataframe tbody tr th {\n",
       "        vertical-align: top;\n",
       "    }\n",
       "\n",
       "    .dataframe thead th {\n",
       "        text-align: right;\n",
       "    }\n",
       "</style>\n",
       "<table border=\"1\" class=\"dataframe\">\n",
       "  <thead>\n",
       "    <tr style=\"text-align: right;\">\n",
       "      <th></th>\n",
       "      <th>Month</th>\n",
       "      <th>#Passengers</th>\n",
       "      <th>Year</th>\n",
       "    </tr>\n",
       "  </thead>\n",
       "  <tbody>\n",
       "    <tr>\n",
       "      <th>0</th>\n",
       "      <td>1949-01-01</td>\n",
       "      <td>112</td>\n",
       "      <td>1949</td>\n",
       "    </tr>\n",
       "    <tr>\n",
       "      <th>1</th>\n",
       "      <td>1949-02-01</td>\n",
       "      <td>118</td>\n",
       "      <td>1949</td>\n",
       "    </tr>\n",
       "    <tr>\n",
       "      <th>2</th>\n",
       "      <td>1949-03-01</td>\n",
       "      <td>132</td>\n",
       "      <td>1949</td>\n",
       "    </tr>\n",
       "    <tr>\n",
       "      <th>3</th>\n",
       "      <td>1949-04-01</td>\n",
       "      <td>129</td>\n",
       "      <td>1949</td>\n",
       "    </tr>\n",
       "    <tr>\n",
       "      <th>4</th>\n",
       "      <td>1949-05-01</td>\n",
       "      <td>121</td>\n",
       "      <td>1949</td>\n",
       "    </tr>\n",
       "  </tbody>\n",
       "</table>\n",
       "</div>"
      ],
      "text/plain": [
       "       Month  #Passengers  Year\n",
       "0 1949-01-01          112  1949\n",
       "1 1949-02-01          118  1949\n",
       "2 1949-03-01          132  1949\n",
       "3 1949-04-01          129  1949\n",
       "4 1949-05-01          121  1949"
      ]
     },
     "execution_count": 4,
     "metadata": {},
     "output_type": "execute_result"
    }
   ],
   "source": [
    "train['Month'] = pd.to_datetime(train['Month'], format='%Y-%m')\n",
    "train['Year'] = train['Month'].dt.year\n",
    "train.head()"
   ]
  },
  {
   "cell_type": "code",
   "execution_count": 6,
   "id": "3fafcd91-427b-40c9-83b0-5cbd26c5d865",
   "metadata": {
    "tags": []
   },
   "outputs": [],
   "source": [
    "year = train['Year'].values.reshape(-1, 1)\n",
    "values = train['#Passengers'].values"
   ]
  },
  {
   "cell_type": "code",
   "execution_count": 7,
   "id": "43fce0b8-4983-4d37-abdd-cf2e8684e283",
   "metadata": {
    "tags": []
   },
   "outputs": [],
   "source": [
    "x=year\n",
    "y=values"
   ]
  },
  {
   "cell_type": "code",
   "execution_count": 8,
   "id": "ad70f0db-a77b-4927-b7b8-8b1a7f19f049",
   "metadata": {
    "tags": []
   },
   "outputs": [],
   "source": [
    "X = [2*(i-(sum(x)/len(x))) for i in x]\n",
    "x2 = [i ** 2 for i in X]\n",
    "xy = [i * j for i, j in zip(X, y)]\n",
    "x3 = [i ** 3 for i in X]\n",
    "x4 = [i ** 4 for i in X]\n",
    "x2y = [i * j for i, j in zip(x2, y)]"
   ]
  },
  {
   "cell_type": "code",
   "execution_count": 9,
   "id": "ca87a34c-5c18-47f3-a815-3ee84ca7c160",
   "metadata": {
    "tags": []
   },
   "outputs": [],
   "source": [
    "table = [[i, j, k, l, m,n,o,p] for i, j, k, l, m,n,o,p in zip(x, y, X, x2, x3,x4,xy,x2y)]\n"
   ]
  },
  {
   "cell_type": "code",
   "execution_count": 10,
   "id": "0c3eac1d-68ad-46c4-90b4-b7164a4c9b9a",
   "metadata": {
    "tags": []
   },
   "outputs": [
    {
     "name": "stdout",
     "output_type": "stream",
     "text": [
      "+--------+--------+------------+-------+-------+-------+-------+-------+\n",
      "|   Year |   Prod |   X=x-2013 |   X^2 |   X^3 |   X^4 |    xy |   x2y |\n",
      "+========+========+============+=======+=======+=======+=======+=======+\n",
      "|   1949 |    112 |        -11 |   121 | -1331 | 14641 | -1232 | 13552 |\n",
      "+--------+--------+------------+-------+-------+-------+-------+-------+\n",
      "|   1949 |    118 |        -11 |   121 | -1331 | 14641 | -1298 | 14278 |\n",
      "+--------+--------+------------+-------+-------+-------+-------+-------+\n",
      "|   1949 |    132 |        -11 |   121 | -1331 | 14641 | -1452 | 15972 |\n",
      "+--------+--------+------------+-------+-------+-------+-------+-------+\n",
      "|   1949 |    129 |        -11 |   121 | -1331 | 14641 | -1419 | 15609 |\n",
      "+--------+--------+------------+-------+-------+-------+-------+-------+\n",
      "|   1949 |    121 |        -11 |   121 | -1331 | 14641 | -1331 | 14641 |\n",
      "+--------+--------+------------+-------+-------+-------+-------+-------+\n",
      "|   1949 |    135 |        -11 |   121 | -1331 | 14641 | -1485 | 16335 |\n",
      "+--------+--------+------------+-------+-------+-------+-------+-------+\n",
      "|   1949 |    148 |        -11 |   121 | -1331 | 14641 | -1628 | 17908 |\n",
      "+--------+--------+------------+-------+-------+-------+-------+-------+\n",
      "|   1949 |    148 |        -11 |   121 | -1331 | 14641 | -1628 | 17908 |\n",
      "+--------+--------+------------+-------+-------+-------+-------+-------+\n",
      "|   1949 |    136 |        -11 |   121 | -1331 | 14641 | -1496 | 16456 |\n",
      "+--------+--------+------------+-------+-------+-------+-------+-------+\n",
      "|   1949 |    119 |        -11 |   121 | -1331 | 14641 | -1309 | 14399 |\n",
      "+--------+--------+------------+-------+-------+-------+-------+-------+\n",
      "|   1949 |    104 |        -11 |   121 | -1331 | 14641 | -1144 | 12584 |\n",
      "+--------+--------+------------+-------+-------+-------+-------+-------+\n",
      "|   1949 |    118 |        -11 |   121 | -1331 | 14641 | -1298 | 14278 |\n",
      "+--------+--------+------------+-------+-------+-------+-------+-------+\n",
      "|   1950 |    115 |         -9 |    81 |  -729 |  6561 | -1035 |  9315 |\n",
      "+--------+--------+------------+-------+-------+-------+-------+-------+\n",
      "|   1950 |    126 |         -9 |    81 |  -729 |  6561 | -1134 | 10206 |\n",
      "+--------+--------+------------+-------+-------+-------+-------+-------+\n",
      "|   1950 |    141 |         -9 |    81 |  -729 |  6561 | -1269 | 11421 |\n",
      "+--------+--------+------------+-------+-------+-------+-------+-------+\n",
      "|   1950 |    135 |         -9 |    81 |  -729 |  6561 | -1215 | 10935 |\n",
      "+--------+--------+------------+-------+-------+-------+-------+-------+\n",
      "|   1950 |    125 |         -9 |    81 |  -729 |  6561 | -1125 | 10125 |\n",
      "+--------+--------+------------+-------+-------+-------+-------+-------+\n",
      "|   1950 |    149 |         -9 |    81 |  -729 |  6561 | -1341 | 12069 |\n",
      "+--------+--------+------------+-------+-------+-------+-------+-------+\n",
      "|   1950 |    170 |         -9 |    81 |  -729 |  6561 | -1530 | 13770 |\n",
      "+--------+--------+------------+-------+-------+-------+-------+-------+\n",
      "|   1950 |    170 |         -9 |    81 |  -729 |  6561 | -1530 | 13770 |\n",
      "+--------+--------+------------+-------+-------+-------+-------+-------+\n",
      "|   1950 |    158 |         -9 |    81 |  -729 |  6561 | -1422 | 12798 |\n",
      "+--------+--------+------------+-------+-------+-------+-------+-------+\n",
      "|   1950 |    133 |         -9 |    81 |  -729 |  6561 | -1197 | 10773 |\n",
      "+--------+--------+------------+-------+-------+-------+-------+-------+\n",
      "|   1950 |    114 |         -9 |    81 |  -729 |  6561 | -1026 |  9234 |\n",
      "+--------+--------+------------+-------+-------+-------+-------+-------+\n",
      "|   1950 |    140 |         -9 |    81 |  -729 |  6561 | -1260 | 11340 |\n",
      "+--------+--------+------------+-------+-------+-------+-------+-------+\n",
      "|   1951 |    145 |         -7 |    49 |  -343 |  2401 | -1015 |  7105 |\n",
      "+--------+--------+------------+-------+-------+-------+-------+-------+\n",
      "|   1951 |    150 |         -7 |    49 |  -343 |  2401 | -1050 |  7350 |\n",
      "+--------+--------+------------+-------+-------+-------+-------+-------+\n",
      "|   1951 |    178 |         -7 |    49 |  -343 |  2401 | -1246 |  8722 |\n",
      "+--------+--------+------------+-------+-------+-------+-------+-------+\n",
      "|   1951 |    163 |         -7 |    49 |  -343 |  2401 | -1141 |  7987 |\n",
      "+--------+--------+------------+-------+-------+-------+-------+-------+\n",
      "|   1951 |    172 |         -7 |    49 |  -343 |  2401 | -1204 |  8428 |\n",
      "+--------+--------+------------+-------+-------+-------+-------+-------+\n",
      "|   1951 |    178 |         -7 |    49 |  -343 |  2401 | -1246 |  8722 |\n",
      "+--------+--------+------------+-------+-------+-------+-------+-------+\n",
      "|   1951 |    199 |         -7 |    49 |  -343 |  2401 | -1393 |  9751 |\n",
      "+--------+--------+------------+-------+-------+-------+-------+-------+\n",
      "|   1951 |    199 |         -7 |    49 |  -343 |  2401 | -1393 |  9751 |\n",
      "+--------+--------+------------+-------+-------+-------+-------+-------+\n",
      "|   1951 |    184 |         -7 |    49 |  -343 |  2401 | -1288 |  9016 |\n",
      "+--------+--------+------------+-------+-------+-------+-------+-------+\n",
      "|   1951 |    162 |         -7 |    49 |  -343 |  2401 | -1134 |  7938 |\n",
      "+--------+--------+------------+-------+-------+-------+-------+-------+\n",
      "|   1951 |    146 |         -7 |    49 |  -343 |  2401 | -1022 |  7154 |\n",
      "+--------+--------+------------+-------+-------+-------+-------+-------+\n",
      "|   1951 |    166 |         -7 |    49 |  -343 |  2401 | -1162 |  8134 |\n",
      "+--------+--------+------------+-------+-------+-------+-------+-------+\n",
      "|   1952 |    171 |         -5 |    25 |  -125 |   625 |  -855 |  4275 |\n",
      "+--------+--------+------------+-------+-------+-------+-------+-------+\n",
      "|   1952 |    180 |         -5 |    25 |  -125 |   625 |  -900 |  4500 |\n",
      "+--------+--------+------------+-------+-------+-------+-------+-------+\n",
      "|   1952 |    193 |         -5 |    25 |  -125 |   625 |  -965 |  4825 |\n",
      "+--------+--------+------------+-------+-------+-------+-------+-------+\n",
      "|   1952 |    181 |         -5 |    25 |  -125 |   625 |  -905 |  4525 |\n",
      "+--------+--------+------------+-------+-------+-------+-------+-------+\n",
      "|   1952 |    183 |         -5 |    25 |  -125 |   625 |  -915 |  4575 |\n",
      "+--------+--------+------------+-------+-------+-------+-------+-------+\n",
      "|   1952 |    218 |         -5 |    25 |  -125 |   625 | -1090 |  5450 |\n",
      "+--------+--------+------------+-------+-------+-------+-------+-------+\n",
      "|   1952 |    230 |         -5 |    25 |  -125 |   625 | -1150 |  5750 |\n",
      "+--------+--------+------------+-------+-------+-------+-------+-------+\n",
      "|   1952 |    242 |         -5 |    25 |  -125 |   625 | -1210 |  6050 |\n",
      "+--------+--------+------------+-------+-------+-------+-------+-------+\n",
      "|   1952 |    209 |         -5 |    25 |  -125 |   625 | -1045 |  5225 |\n",
      "+--------+--------+------------+-------+-------+-------+-------+-------+\n",
      "|   1952 |    191 |         -5 |    25 |  -125 |   625 |  -955 |  4775 |\n",
      "+--------+--------+------------+-------+-------+-------+-------+-------+\n",
      "|   1952 |    172 |         -5 |    25 |  -125 |   625 |  -860 |  4300 |\n",
      "+--------+--------+------------+-------+-------+-------+-------+-------+\n",
      "|   1952 |    194 |         -5 |    25 |  -125 |   625 |  -970 |  4850 |\n",
      "+--------+--------+------------+-------+-------+-------+-------+-------+\n",
      "|   1953 |    196 |         -3 |     9 |   -27 |    81 |  -588 |  1764 |\n",
      "+--------+--------+------------+-------+-------+-------+-------+-------+\n",
      "|   1953 |    196 |         -3 |     9 |   -27 |    81 |  -588 |  1764 |\n",
      "+--------+--------+------------+-------+-------+-------+-------+-------+\n",
      "|   1953 |    236 |         -3 |     9 |   -27 |    81 |  -708 |  2124 |\n",
      "+--------+--------+------------+-------+-------+-------+-------+-------+\n",
      "|   1953 |    235 |         -3 |     9 |   -27 |    81 |  -705 |  2115 |\n",
      "+--------+--------+------------+-------+-------+-------+-------+-------+\n",
      "|   1953 |    229 |         -3 |     9 |   -27 |    81 |  -687 |  2061 |\n",
      "+--------+--------+------------+-------+-------+-------+-------+-------+\n",
      "|   1953 |    243 |         -3 |     9 |   -27 |    81 |  -729 |  2187 |\n",
      "+--------+--------+------------+-------+-------+-------+-------+-------+\n",
      "|   1953 |    264 |         -3 |     9 |   -27 |    81 |  -792 |  2376 |\n",
      "+--------+--------+------------+-------+-------+-------+-------+-------+\n",
      "|   1953 |    272 |         -3 |     9 |   -27 |    81 |  -816 |  2448 |\n",
      "+--------+--------+------------+-------+-------+-------+-------+-------+\n",
      "|   1953 |    237 |         -3 |     9 |   -27 |    81 |  -711 |  2133 |\n",
      "+--------+--------+------------+-------+-------+-------+-------+-------+\n",
      "|   1953 |    211 |         -3 |     9 |   -27 |    81 |  -633 |  1899 |\n",
      "+--------+--------+------------+-------+-------+-------+-------+-------+\n",
      "|   1953 |    180 |         -3 |     9 |   -27 |    81 |  -540 |  1620 |\n",
      "+--------+--------+------------+-------+-------+-------+-------+-------+\n",
      "|   1953 |    201 |         -3 |     9 |   -27 |    81 |  -603 |  1809 |\n",
      "+--------+--------+------------+-------+-------+-------+-------+-------+\n",
      "|   1954 |    204 |         -1 |     1 |    -1 |     1 |  -204 |   204 |\n",
      "+--------+--------+------------+-------+-------+-------+-------+-------+\n",
      "|   1954 |    188 |         -1 |     1 |    -1 |     1 |  -188 |   188 |\n",
      "+--------+--------+------------+-------+-------+-------+-------+-------+\n",
      "|   1954 |    235 |         -1 |     1 |    -1 |     1 |  -235 |   235 |\n",
      "+--------+--------+------------+-------+-------+-------+-------+-------+\n",
      "|   1954 |    227 |         -1 |     1 |    -1 |     1 |  -227 |   227 |\n",
      "+--------+--------+------------+-------+-------+-------+-------+-------+\n",
      "|   1954 |    234 |         -1 |     1 |    -1 |     1 |  -234 |   234 |\n",
      "+--------+--------+------------+-------+-------+-------+-------+-------+\n",
      "|   1954 |    264 |         -1 |     1 |    -1 |     1 |  -264 |   264 |\n",
      "+--------+--------+------------+-------+-------+-------+-------+-------+\n",
      "|   1954 |    302 |         -1 |     1 |    -1 |     1 |  -302 |   302 |\n",
      "+--------+--------+------------+-------+-------+-------+-------+-------+\n",
      "|   1954 |    293 |         -1 |     1 |    -1 |     1 |  -293 |   293 |\n",
      "+--------+--------+------------+-------+-------+-------+-------+-------+\n",
      "|   1954 |    259 |         -1 |     1 |    -1 |     1 |  -259 |   259 |\n",
      "+--------+--------+------------+-------+-------+-------+-------+-------+\n",
      "|   1954 |    229 |         -1 |     1 |    -1 |     1 |  -229 |   229 |\n",
      "+--------+--------+------------+-------+-------+-------+-------+-------+\n",
      "|   1954 |    203 |         -1 |     1 |    -1 |     1 |  -203 |   203 |\n",
      "+--------+--------+------------+-------+-------+-------+-------+-------+\n",
      "|   1954 |    229 |         -1 |     1 |    -1 |     1 |  -229 |   229 |\n",
      "+--------+--------+------------+-------+-------+-------+-------+-------+\n",
      "|   1955 |    242 |          1 |     1 |     1 |     1 |   242 |   242 |\n",
      "+--------+--------+------------+-------+-------+-------+-------+-------+\n",
      "|   1955 |    233 |          1 |     1 |     1 |     1 |   233 |   233 |\n",
      "+--------+--------+------------+-------+-------+-------+-------+-------+\n",
      "|   1955 |    267 |          1 |     1 |     1 |     1 |   267 |   267 |\n",
      "+--------+--------+------------+-------+-------+-------+-------+-------+\n",
      "|   1955 |    269 |          1 |     1 |     1 |     1 |   269 |   269 |\n",
      "+--------+--------+------------+-------+-------+-------+-------+-------+\n",
      "|   1955 |    270 |          1 |     1 |     1 |     1 |   270 |   270 |\n",
      "+--------+--------+------------+-------+-------+-------+-------+-------+\n",
      "|   1955 |    315 |          1 |     1 |     1 |     1 |   315 |   315 |\n",
      "+--------+--------+------------+-------+-------+-------+-------+-------+\n",
      "|   1955 |    364 |          1 |     1 |     1 |     1 |   364 |   364 |\n",
      "+--------+--------+------------+-------+-------+-------+-------+-------+\n",
      "|   1955 |    347 |          1 |     1 |     1 |     1 |   347 |   347 |\n",
      "+--------+--------+------------+-------+-------+-------+-------+-------+\n",
      "|   1955 |    312 |          1 |     1 |     1 |     1 |   312 |   312 |\n",
      "+--------+--------+------------+-------+-------+-------+-------+-------+\n",
      "|   1955 |    274 |          1 |     1 |     1 |     1 |   274 |   274 |\n",
      "+--------+--------+------------+-------+-------+-------+-------+-------+\n",
      "|   1955 |    237 |          1 |     1 |     1 |     1 |   237 |   237 |\n",
      "+--------+--------+------------+-------+-------+-------+-------+-------+\n",
      "|   1955 |    278 |          1 |     1 |     1 |     1 |   278 |   278 |\n",
      "+--------+--------+------------+-------+-------+-------+-------+-------+\n",
      "|   1956 |    284 |          3 |     9 |    27 |    81 |   852 |  2556 |\n",
      "+--------+--------+------------+-------+-------+-------+-------+-------+\n",
      "|   1956 |    277 |          3 |     9 |    27 |    81 |   831 |  2493 |\n",
      "+--------+--------+------------+-------+-------+-------+-------+-------+\n",
      "|   1956 |    317 |          3 |     9 |    27 |    81 |   951 |  2853 |\n",
      "+--------+--------+------------+-------+-------+-------+-------+-------+\n",
      "|   1956 |    313 |          3 |     9 |    27 |    81 |   939 |  2817 |\n",
      "+--------+--------+------------+-------+-------+-------+-------+-------+\n",
      "|   1956 |    318 |          3 |     9 |    27 |    81 |   954 |  2862 |\n",
      "+--------+--------+------------+-------+-------+-------+-------+-------+\n",
      "|   1956 |    374 |          3 |     9 |    27 |    81 |  1122 |  3366 |\n",
      "+--------+--------+------------+-------+-------+-------+-------+-------+\n",
      "|   1956 |    413 |          3 |     9 |    27 |    81 |  1239 |  3717 |\n",
      "+--------+--------+------------+-------+-------+-------+-------+-------+\n",
      "|   1956 |    405 |          3 |     9 |    27 |    81 |  1215 |  3645 |\n",
      "+--------+--------+------------+-------+-------+-------+-------+-------+\n",
      "|   1956 |    355 |          3 |     9 |    27 |    81 |  1065 |  3195 |\n",
      "+--------+--------+------------+-------+-------+-------+-------+-------+\n",
      "|   1956 |    306 |          3 |     9 |    27 |    81 |   918 |  2754 |\n",
      "+--------+--------+------------+-------+-------+-------+-------+-------+\n",
      "|   1956 |    271 |          3 |     9 |    27 |    81 |   813 |  2439 |\n",
      "+--------+--------+------------+-------+-------+-------+-------+-------+\n",
      "|   1956 |    306 |          3 |     9 |    27 |    81 |   918 |  2754 |\n",
      "+--------+--------+------------+-------+-------+-------+-------+-------+\n",
      "|   1957 |    315 |          5 |    25 |   125 |   625 |  1575 |  7875 |\n",
      "+--------+--------+------------+-------+-------+-------+-------+-------+\n",
      "|   1957 |    301 |          5 |    25 |   125 |   625 |  1505 |  7525 |\n",
      "+--------+--------+------------+-------+-------+-------+-------+-------+\n",
      "|   1957 |    356 |          5 |    25 |   125 |   625 |  1780 |  8900 |\n",
      "+--------+--------+------------+-------+-------+-------+-------+-------+\n",
      "|   1957 |    348 |          5 |    25 |   125 |   625 |  1740 |  8700 |\n",
      "+--------+--------+------------+-------+-------+-------+-------+-------+\n",
      "|   1957 |    355 |          5 |    25 |   125 |   625 |  1775 |  8875 |\n",
      "+--------+--------+------------+-------+-------+-------+-------+-------+\n",
      "|   1957 |    422 |          5 |    25 |   125 |   625 |  2110 | 10550 |\n",
      "+--------+--------+------------+-------+-------+-------+-------+-------+\n",
      "|   1957 |    465 |          5 |    25 |   125 |   625 |  2325 | 11625 |\n",
      "+--------+--------+------------+-------+-------+-------+-------+-------+\n",
      "|   1957 |    467 |          5 |    25 |   125 |   625 |  2335 | 11675 |\n",
      "+--------+--------+------------+-------+-------+-------+-------+-------+\n",
      "|   1957 |    404 |          5 |    25 |   125 |   625 |  2020 | 10100 |\n",
      "+--------+--------+------------+-------+-------+-------+-------+-------+\n",
      "|   1957 |    347 |          5 |    25 |   125 |   625 |  1735 |  8675 |\n",
      "+--------+--------+------------+-------+-------+-------+-------+-------+\n",
      "|   1957 |    305 |          5 |    25 |   125 |   625 |  1525 |  7625 |\n",
      "+--------+--------+------------+-------+-------+-------+-------+-------+\n",
      "|   1957 |    336 |          5 |    25 |   125 |   625 |  1680 |  8400 |\n",
      "+--------+--------+------------+-------+-------+-------+-------+-------+\n",
      "|   1958 |    340 |          7 |    49 |   343 |  2401 |  2380 | 16660 |\n",
      "+--------+--------+------------+-------+-------+-------+-------+-------+\n",
      "|   1958 |    318 |          7 |    49 |   343 |  2401 |  2226 | 15582 |\n",
      "+--------+--------+------------+-------+-------+-------+-------+-------+\n",
      "|   1958 |    362 |          7 |    49 |   343 |  2401 |  2534 | 17738 |\n",
      "+--------+--------+------------+-------+-------+-------+-------+-------+\n",
      "|   1958 |    348 |          7 |    49 |   343 |  2401 |  2436 | 17052 |\n",
      "+--------+--------+------------+-------+-------+-------+-------+-------+\n",
      "|   1958 |    363 |          7 |    49 |   343 |  2401 |  2541 | 17787 |\n",
      "+--------+--------+------------+-------+-------+-------+-------+-------+\n",
      "|   1958 |    435 |          7 |    49 |   343 |  2401 |  3045 | 21315 |\n",
      "+--------+--------+------------+-------+-------+-------+-------+-------+\n",
      "|   1958 |    491 |          7 |    49 |   343 |  2401 |  3437 | 24059 |\n",
      "+--------+--------+------------+-------+-------+-------+-------+-------+\n",
      "|   1958 |    505 |          7 |    49 |   343 |  2401 |  3535 | 24745 |\n",
      "+--------+--------+------------+-------+-------+-------+-------+-------+\n",
      "|   1958 |    404 |          7 |    49 |   343 |  2401 |  2828 | 19796 |\n",
      "+--------+--------+------------+-------+-------+-------+-------+-------+\n",
      "|   1958 |    359 |          7 |    49 |   343 |  2401 |  2513 | 17591 |\n",
      "+--------+--------+------------+-------+-------+-------+-------+-------+\n",
      "|   1958 |    310 |          7 |    49 |   343 |  2401 |  2170 | 15190 |\n",
      "+--------+--------+------------+-------+-------+-------+-------+-------+\n",
      "|   1958 |    337 |          7 |    49 |   343 |  2401 |  2359 | 16513 |\n",
      "+--------+--------+------------+-------+-------+-------+-------+-------+\n",
      "|   1959 |    360 |          9 |    81 |   729 |  6561 |  3240 | 29160 |\n",
      "+--------+--------+------------+-------+-------+-------+-------+-------+\n",
      "|   1959 |    342 |          9 |    81 |   729 |  6561 |  3078 | 27702 |\n",
      "+--------+--------+------------+-------+-------+-------+-------+-------+\n",
      "|   1959 |    406 |          9 |    81 |   729 |  6561 |  3654 | 32886 |\n",
      "+--------+--------+------------+-------+-------+-------+-------+-------+\n",
      "|   1959 |    396 |          9 |    81 |   729 |  6561 |  3564 | 32076 |\n",
      "+--------+--------+------------+-------+-------+-------+-------+-------+\n",
      "|   1959 |    420 |          9 |    81 |   729 |  6561 |  3780 | 34020 |\n",
      "+--------+--------+------------+-------+-------+-------+-------+-------+\n",
      "|   1959 |    472 |          9 |    81 |   729 |  6561 |  4248 | 38232 |\n",
      "+--------+--------+------------+-------+-------+-------+-------+-------+\n",
      "|   1959 |    548 |          9 |    81 |   729 |  6561 |  4932 | 44388 |\n",
      "+--------+--------+------------+-------+-------+-------+-------+-------+\n",
      "|   1959 |    559 |          9 |    81 |   729 |  6561 |  5031 | 45279 |\n",
      "+--------+--------+------------+-------+-------+-------+-------+-------+\n",
      "|   1959 |    463 |          9 |    81 |   729 |  6561 |  4167 | 37503 |\n",
      "+--------+--------+------------+-------+-------+-------+-------+-------+\n",
      "|   1959 |    407 |          9 |    81 |   729 |  6561 |  3663 | 32967 |\n",
      "+--------+--------+------------+-------+-------+-------+-------+-------+\n",
      "|   1959 |    362 |          9 |    81 |   729 |  6561 |  3258 | 29322 |\n",
      "+--------+--------+------------+-------+-------+-------+-------+-------+\n",
      "|   1959 |    405 |          9 |    81 |   729 |  6561 |  3645 | 32805 |\n",
      "+--------+--------+------------+-------+-------+-------+-------+-------+\n",
      "|   1960 |    417 |         11 |   121 |  1331 | 14641 |  4587 | 50457 |\n",
      "+--------+--------+------------+-------+-------+-------+-------+-------+\n",
      "|   1960 |    391 |         11 |   121 |  1331 | 14641 |  4301 | 47311 |\n",
      "+--------+--------+------------+-------+-------+-------+-------+-------+\n",
      "|   1960 |    419 |         11 |   121 |  1331 | 14641 |  4609 | 50699 |\n",
      "+--------+--------+------------+-------+-------+-------+-------+-------+\n",
      "|   1960 |    461 |         11 |   121 |  1331 | 14641 |  5071 | 55781 |\n",
      "+--------+--------+------------+-------+-------+-------+-------+-------+\n",
      "|   1960 |    472 |         11 |   121 |  1331 | 14641 |  5192 | 57112 |\n",
      "+--------+--------+------------+-------+-------+-------+-------+-------+\n",
      "|   1960 |    535 |         11 |   121 |  1331 | 14641 |  5885 | 64735 |\n",
      "+--------+--------+------------+-------+-------+-------+-------+-------+\n",
      "|   1960 |    622 |         11 |   121 |  1331 | 14641 |  6842 | 75262 |\n",
      "+--------+--------+------------+-------+-------+-------+-------+-------+\n",
      "|   1960 |    606 |         11 |   121 |  1331 | 14641 |  6666 | 73326 |\n",
      "+--------+--------+------------+-------+-------+-------+-------+-------+\n",
      "|   1960 |    508 |         11 |   121 |  1331 | 14641 |  5588 | 61468 |\n",
      "+--------+--------+------------+-------+-------+-------+-------+-------+\n",
      "|   1960 |    461 |         11 |   121 |  1331 | 14641 |  5071 | 55781 |\n",
      "+--------+--------+------------+-------+-------+-------+-------+-------+\n",
      "|   1960 |    390 |         11 |   121 |  1331 | 14641 |  4290 | 47190 |\n",
      "+--------+--------+------------+-------+-------+-------+-------+-------+\n",
      "|   1960 |    432 |         11 |   121 |  1331 | 14641 |  4752 | 52272 |\n",
      "+--------+--------+------------+-------+-------+-------+-------+-------+\n"
     ]
    }
   ],
   "source": [
    "print(tabulate(table, headers=[\"Year\", \"Prod\", \"X=x-2013\", \"X^2\", \"X^3\", \"X^4\", \"xy\", \"x2y\"], tablefmt=\"grid\"))"
   ]
  },
  {
   "cell_type": "code",
   "execution_count": 22,
   "id": "481c7172-940d-456d-a2f4-1d4c08c7258e",
   "metadata": {
    "tags": []
   },
   "outputs": [
    {
     "data": {
      "text/html": [
       "<style>#sk-container-id-4 {color: black;}#sk-container-id-4 pre{padding: 0;}#sk-container-id-4 div.sk-toggleable {background-color: white;}#sk-container-id-4 label.sk-toggleable__label {cursor: pointer;display: block;width: 100%;margin-bottom: 0;padding: 0.3em;box-sizing: border-box;text-align: center;}#sk-container-id-4 label.sk-toggleable__label-arrow:before {content: \"▸\";float: left;margin-right: 0.25em;color: #696969;}#sk-container-id-4 label.sk-toggleable__label-arrow:hover:before {color: black;}#sk-container-id-4 div.sk-estimator:hover label.sk-toggleable__label-arrow:before {color: black;}#sk-container-id-4 div.sk-toggleable__content {max-height: 0;max-width: 0;overflow: hidden;text-align: left;background-color: #f0f8ff;}#sk-container-id-4 div.sk-toggleable__content pre {margin: 0.2em;color: black;border-radius: 0.25em;background-color: #f0f8ff;}#sk-container-id-4 input.sk-toggleable__control:checked~div.sk-toggleable__content {max-height: 200px;max-width: 100%;overflow: auto;}#sk-container-id-4 input.sk-toggleable__control:checked~label.sk-toggleable__label-arrow:before {content: \"▾\";}#sk-container-id-4 div.sk-estimator input.sk-toggleable__control:checked~label.sk-toggleable__label {background-color: #d4ebff;}#sk-container-id-4 div.sk-label input.sk-toggleable__control:checked~label.sk-toggleable__label {background-color: #d4ebff;}#sk-container-id-4 input.sk-hidden--visually {border: 0;clip: rect(1px 1px 1px 1px);clip: rect(1px, 1px, 1px, 1px);height: 1px;margin: -1px;overflow: hidden;padding: 0;position: absolute;width: 1px;}#sk-container-id-4 div.sk-estimator {font-family: monospace;background-color: #f0f8ff;border: 1px dotted black;border-radius: 0.25em;box-sizing: border-box;margin-bottom: 0.5em;}#sk-container-id-4 div.sk-estimator:hover {background-color: #d4ebff;}#sk-container-id-4 div.sk-parallel-item::after {content: \"\";width: 100%;border-bottom: 1px solid gray;flex-grow: 1;}#sk-container-id-4 div.sk-label:hover label.sk-toggleable__label {background-color: #d4ebff;}#sk-container-id-4 div.sk-serial::before {content: \"\";position: absolute;border-left: 1px solid gray;box-sizing: border-box;top: 0;bottom: 0;left: 50%;z-index: 0;}#sk-container-id-4 div.sk-serial {display: flex;flex-direction: column;align-items: center;background-color: white;padding-right: 0.2em;padding-left: 0.2em;position: relative;}#sk-container-id-4 div.sk-item {position: relative;z-index: 1;}#sk-container-id-4 div.sk-parallel {display: flex;align-items: stretch;justify-content: center;background-color: white;position: relative;}#sk-container-id-4 div.sk-item::before, #sk-container-id-4 div.sk-parallel-item::before {content: \"\";position: absolute;border-left: 1px solid gray;box-sizing: border-box;top: 0;bottom: 0;left: 50%;z-index: -1;}#sk-container-id-4 div.sk-parallel-item {display: flex;flex-direction: column;z-index: 1;position: relative;background-color: white;}#sk-container-id-4 div.sk-parallel-item:first-child::after {align-self: flex-end;width: 50%;}#sk-container-id-4 div.sk-parallel-item:last-child::after {align-self: flex-start;width: 50%;}#sk-container-id-4 div.sk-parallel-item:only-child::after {width: 0;}#sk-container-id-4 div.sk-dashed-wrapped {border: 1px dashed gray;margin: 0 0.4em 0.5em 0.4em;box-sizing: border-box;padding-bottom: 0.4em;background-color: white;}#sk-container-id-4 div.sk-label label {font-family: monospace;font-weight: bold;display: inline-block;line-height: 1.2em;}#sk-container-id-4 div.sk-label-container {text-align: center;}#sk-container-id-4 div.sk-container {/* jupyter's `normalize.less` sets `[hidden] { display: none; }` but bootstrap.min.css set `[hidden] { display: none !important; }` so we also need the `!important` here to be able to override the default hidden behavior on the sphinx rendered scikit-learn.org. See: https://github.com/scikit-learn/scikit-learn/issues/21755 */display: inline-block !important;position: relative;}#sk-container-id-4 div.sk-text-repr-fallback {display: none;}</style><div id=\"sk-container-id-4\" class=\"sk-top-container\"><div class=\"sk-text-repr-fallback\"><pre>LinearRegression()</pre><b>In a Jupyter environment, please rerun this cell to show the HTML representation or trust the notebook. <br />On GitHub, the HTML representation is unable to render, please try loading this page with nbviewer.org.</b></div><div class=\"sk-container\" hidden><div class=\"sk-item\"><div class=\"sk-estimator sk-toggleable\"><input class=\"sk-toggleable__control sk-hidden--visually\" id=\"sk-estimator-id-4\" type=\"checkbox\" checked><label for=\"sk-estimator-id-4\" class=\"sk-toggleable__label sk-toggleable__label-arrow\">LinearRegression</label><div class=\"sk-toggleable__content\"><pre>LinearRegression()</pre></div></div></div></div></div>"
      ],
      "text/plain": [
       "LinearRegression()"
      ]
     },
     "execution_count": 22,
     "metadata": {},
     "output_type": "execute_result"
    }
   ],
   "source": [
    "from sklearn.linear_model import LinearRegression\n",
    "lin = LinearRegression()\n",
    "lin.fit(X, y)"
   ]
  },
  {
   "cell_type": "code",
   "execution_count": 23,
   "id": "2233356c-b101-4c7a-94e2-8d65080b5518",
   "metadata": {
    "tags": []
   },
   "outputs": [
    {
     "data": {
      "text/html": [
       "<style>#sk-container-id-5 {color: black;}#sk-container-id-5 pre{padding: 0;}#sk-container-id-5 div.sk-toggleable {background-color: white;}#sk-container-id-5 label.sk-toggleable__label {cursor: pointer;display: block;width: 100%;margin-bottom: 0;padding: 0.3em;box-sizing: border-box;text-align: center;}#sk-container-id-5 label.sk-toggleable__label-arrow:before {content: \"▸\";float: left;margin-right: 0.25em;color: #696969;}#sk-container-id-5 label.sk-toggleable__label-arrow:hover:before {color: black;}#sk-container-id-5 div.sk-estimator:hover label.sk-toggleable__label-arrow:before {color: black;}#sk-container-id-5 div.sk-toggleable__content {max-height: 0;max-width: 0;overflow: hidden;text-align: left;background-color: #f0f8ff;}#sk-container-id-5 div.sk-toggleable__content pre {margin: 0.2em;color: black;border-radius: 0.25em;background-color: #f0f8ff;}#sk-container-id-5 input.sk-toggleable__control:checked~div.sk-toggleable__content {max-height: 200px;max-width: 100%;overflow: auto;}#sk-container-id-5 input.sk-toggleable__control:checked~label.sk-toggleable__label-arrow:before {content: \"▾\";}#sk-container-id-5 div.sk-estimator input.sk-toggleable__control:checked~label.sk-toggleable__label {background-color: #d4ebff;}#sk-container-id-5 div.sk-label input.sk-toggleable__control:checked~label.sk-toggleable__label {background-color: #d4ebff;}#sk-container-id-5 input.sk-hidden--visually {border: 0;clip: rect(1px 1px 1px 1px);clip: rect(1px, 1px, 1px, 1px);height: 1px;margin: -1px;overflow: hidden;padding: 0;position: absolute;width: 1px;}#sk-container-id-5 div.sk-estimator {font-family: monospace;background-color: #f0f8ff;border: 1px dotted black;border-radius: 0.25em;box-sizing: border-box;margin-bottom: 0.5em;}#sk-container-id-5 div.sk-estimator:hover {background-color: #d4ebff;}#sk-container-id-5 div.sk-parallel-item::after {content: \"\";width: 100%;border-bottom: 1px solid gray;flex-grow: 1;}#sk-container-id-5 div.sk-label:hover label.sk-toggleable__label {background-color: #d4ebff;}#sk-container-id-5 div.sk-serial::before {content: \"\";position: absolute;border-left: 1px solid gray;box-sizing: border-box;top: 0;bottom: 0;left: 50%;z-index: 0;}#sk-container-id-5 div.sk-serial {display: flex;flex-direction: column;align-items: center;background-color: white;padding-right: 0.2em;padding-left: 0.2em;position: relative;}#sk-container-id-5 div.sk-item {position: relative;z-index: 1;}#sk-container-id-5 div.sk-parallel {display: flex;align-items: stretch;justify-content: center;background-color: white;position: relative;}#sk-container-id-5 div.sk-item::before, #sk-container-id-5 div.sk-parallel-item::before {content: \"\";position: absolute;border-left: 1px solid gray;box-sizing: border-box;top: 0;bottom: 0;left: 50%;z-index: -1;}#sk-container-id-5 div.sk-parallel-item {display: flex;flex-direction: column;z-index: 1;position: relative;background-color: white;}#sk-container-id-5 div.sk-parallel-item:first-child::after {align-self: flex-end;width: 50%;}#sk-container-id-5 div.sk-parallel-item:last-child::after {align-self: flex-start;width: 50%;}#sk-container-id-5 div.sk-parallel-item:only-child::after {width: 0;}#sk-container-id-5 div.sk-dashed-wrapped {border: 1px dashed gray;margin: 0 0.4em 0.5em 0.4em;box-sizing: border-box;padding-bottom: 0.4em;background-color: white;}#sk-container-id-5 div.sk-label label {font-family: monospace;font-weight: bold;display: inline-block;line-height: 1.2em;}#sk-container-id-5 div.sk-label-container {text-align: center;}#sk-container-id-5 div.sk-container {/* jupyter's `normalize.less` sets `[hidden] { display: none; }` but bootstrap.min.css set `[hidden] { display: none !important; }` so we also need the `!important` here to be able to override the default hidden behavior on the sphinx rendered scikit-learn.org. See: https://github.com/scikit-learn/scikit-learn/issues/21755 */display: inline-block !important;position: relative;}#sk-container-id-5 div.sk-text-repr-fallback {display: none;}</style><div id=\"sk-container-id-5\" class=\"sk-top-container\"><div class=\"sk-text-repr-fallback\"><pre>PolynomialFeatures(degree=4)</pre><b>In a Jupyter environment, please rerun this cell to show the HTML representation or trust the notebook. <br />On GitHub, the HTML representation is unable to render, please try loading this page with nbviewer.org.</b></div><div class=\"sk-container\" hidden><div class=\"sk-item\"><div class=\"sk-estimator sk-toggleable\"><input class=\"sk-toggleable__control sk-hidden--visually\" id=\"sk-estimator-id-5\" type=\"checkbox\" checked><label for=\"sk-estimator-id-5\" class=\"sk-toggleable__label sk-toggleable__label-arrow\">PolynomialFeatures</label><div class=\"sk-toggleable__content\"><pre>PolynomialFeatures(degree=4)</pre></div></div></div></div></div>"
      ],
      "text/plain": [
       "PolynomialFeatures(degree=4)"
      ]
     },
     "execution_count": 23,
     "metadata": {},
     "output_type": "execute_result"
    }
   ],
   "source": [
    "from sklearn.preprocessing import PolynomialFeatures\n",
    "poly = PolynomialFeatures(degree=4)\n",
    "X_poly = poly.fit_transform(X)\n",
    "poly.fit(X_poly, y)"
   ]
  },
  {
   "cell_type": "code",
   "execution_count": 24,
   "id": "8ad4ae07-c823-41f0-8a78-0a22bc95199d",
   "metadata": {
    "tags": []
   },
   "outputs": [
    {
     "data": {
      "text/html": [
       "<style>#sk-container-id-6 {color: black;}#sk-container-id-6 pre{padding: 0;}#sk-container-id-6 div.sk-toggleable {background-color: white;}#sk-container-id-6 label.sk-toggleable__label {cursor: pointer;display: block;width: 100%;margin-bottom: 0;padding: 0.3em;box-sizing: border-box;text-align: center;}#sk-container-id-6 label.sk-toggleable__label-arrow:before {content: \"▸\";float: left;margin-right: 0.25em;color: #696969;}#sk-container-id-6 label.sk-toggleable__label-arrow:hover:before {color: black;}#sk-container-id-6 div.sk-estimator:hover label.sk-toggleable__label-arrow:before {color: black;}#sk-container-id-6 div.sk-toggleable__content {max-height: 0;max-width: 0;overflow: hidden;text-align: left;background-color: #f0f8ff;}#sk-container-id-6 div.sk-toggleable__content pre {margin: 0.2em;color: black;border-radius: 0.25em;background-color: #f0f8ff;}#sk-container-id-6 input.sk-toggleable__control:checked~div.sk-toggleable__content {max-height: 200px;max-width: 100%;overflow: auto;}#sk-container-id-6 input.sk-toggleable__control:checked~label.sk-toggleable__label-arrow:before {content: \"▾\";}#sk-container-id-6 div.sk-estimator input.sk-toggleable__control:checked~label.sk-toggleable__label {background-color: #d4ebff;}#sk-container-id-6 div.sk-label input.sk-toggleable__control:checked~label.sk-toggleable__label {background-color: #d4ebff;}#sk-container-id-6 input.sk-hidden--visually {border: 0;clip: rect(1px 1px 1px 1px);clip: rect(1px, 1px, 1px, 1px);height: 1px;margin: -1px;overflow: hidden;padding: 0;position: absolute;width: 1px;}#sk-container-id-6 div.sk-estimator {font-family: monospace;background-color: #f0f8ff;border: 1px dotted black;border-radius: 0.25em;box-sizing: border-box;margin-bottom: 0.5em;}#sk-container-id-6 div.sk-estimator:hover {background-color: #d4ebff;}#sk-container-id-6 div.sk-parallel-item::after {content: \"\";width: 100%;border-bottom: 1px solid gray;flex-grow: 1;}#sk-container-id-6 div.sk-label:hover label.sk-toggleable__label {background-color: #d4ebff;}#sk-container-id-6 div.sk-serial::before {content: \"\";position: absolute;border-left: 1px solid gray;box-sizing: border-box;top: 0;bottom: 0;left: 50%;z-index: 0;}#sk-container-id-6 div.sk-serial {display: flex;flex-direction: column;align-items: center;background-color: white;padding-right: 0.2em;padding-left: 0.2em;position: relative;}#sk-container-id-6 div.sk-item {position: relative;z-index: 1;}#sk-container-id-6 div.sk-parallel {display: flex;align-items: stretch;justify-content: center;background-color: white;position: relative;}#sk-container-id-6 div.sk-item::before, #sk-container-id-6 div.sk-parallel-item::before {content: \"\";position: absolute;border-left: 1px solid gray;box-sizing: border-box;top: 0;bottom: 0;left: 50%;z-index: -1;}#sk-container-id-6 div.sk-parallel-item {display: flex;flex-direction: column;z-index: 1;position: relative;background-color: white;}#sk-container-id-6 div.sk-parallel-item:first-child::after {align-self: flex-end;width: 50%;}#sk-container-id-6 div.sk-parallel-item:last-child::after {align-self: flex-start;width: 50%;}#sk-container-id-6 div.sk-parallel-item:only-child::after {width: 0;}#sk-container-id-6 div.sk-dashed-wrapped {border: 1px dashed gray;margin: 0 0.4em 0.5em 0.4em;box-sizing: border-box;padding-bottom: 0.4em;background-color: white;}#sk-container-id-6 div.sk-label label {font-family: monospace;font-weight: bold;display: inline-block;line-height: 1.2em;}#sk-container-id-6 div.sk-label-container {text-align: center;}#sk-container-id-6 div.sk-container {/* jupyter's `normalize.less` sets `[hidden] { display: none; }` but bootstrap.min.css set `[hidden] { display: none !important; }` so we also need the `!important` here to be able to override the default hidden behavior on the sphinx rendered scikit-learn.org. See: https://github.com/scikit-learn/scikit-learn/issues/21755 */display: inline-block !important;position: relative;}#sk-container-id-6 div.sk-text-repr-fallback {display: none;}</style><div id=\"sk-container-id-6\" class=\"sk-top-container\"><div class=\"sk-text-repr-fallback\"><pre>LinearRegression()</pre><b>In a Jupyter environment, please rerun this cell to show the HTML representation or trust the notebook. <br />On GitHub, the HTML representation is unable to render, please try loading this page with nbviewer.org.</b></div><div class=\"sk-container\" hidden><div class=\"sk-item\"><div class=\"sk-estimator sk-toggleable\"><input class=\"sk-toggleable__control sk-hidden--visually\" id=\"sk-estimator-id-6\" type=\"checkbox\" checked><label for=\"sk-estimator-id-6\" class=\"sk-toggleable__label sk-toggleable__label-arrow\">LinearRegression</label><div class=\"sk-toggleable__content\"><pre>LinearRegression()</pre></div></div></div></div></div>"
      ],
      "text/plain": [
       "LinearRegression()"
      ]
     },
     "execution_count": 24,
     "metadata": {},
     "output_type": "execute_result"
    }
   ],
   "source": [
    "lin2 = LinearRegression()\n",
    "lin2.fit(X_poly, y)"
   ]
  },
  {
   "cell_type": "code",
   "execution_count": 29,
   "id": "c18f60c9-2165-4b16-8b52-cb3c5a9c3d8b",
   "metadata": {
    "tags": []
   },
   "outputs": [
    {
     "data": {
      "image/png": "[encoded data removed]",
      "text/plain": [
       "<Figure size 640x480 with 1 Axes>"
      ]
     },
     "metadata": {},
     "output_type": "display_data"
    }
   ],
   "source": [
    "plt.plot(X, lin2.predict(poly.fit_transform(X)),\n",
    "color='red')\n",
    "plt.title('Polynomial Regression')\n",
    "plt.xlabel('Month')\n",
    "plt.ylabel('Passengers')\n",
    "plt.show()\n"
   ]
  },
  {
   "cell_type": "code",
   "execution_count": 25,
   "id": "cecb06b2-5113-42a4-9449-499bd8e27035",
   "metadata": {
    "tags": []
   },
   "outputs": [
    {
     "data": {
      "text/plain": [
       "array([2036.1159188])"
      ]
     },
     "execution_count": 25,
     "metadata": {},
     "output_type": "execute_result"
    }
   ],
   "source": [
    "pred = 110.0\n",
    "pred = 110.0\n",
    "predarray = np.array([[pred]])\n",
    "lin.predict(predarray)\n"
   ]
  },
  {
   "cell_type": "code",
   "execution_count": 26,
   "id": "245ee910-264b-4be1-ad6e-6bfc29d1f71c",
   "metadata": {
    "tags": []
   },
   "outputs": [
    {
     "data": {
      "text/plain": [
       "array([96851.89737982])"
      ]
     },
     "execution_count": 26,
     "metadata": {},
     "output_type": "execute_result"
    }
   ],
   "source": [
    "pred2 = 110.0\n",
    "pred2array = np.array([[pred2]])\n",
    "lin2.predict(poly.fit_transform(pred2array))"
   ]
  }
 ],
 "metadata": {
  "kernelspec": {
   "display_name": "Python 3 (ipykernel)",
   "language": "python",
   "name": "python3"
  },
  "language_info": {
   "codemirror_mode": {
    "name": "ipython",
    "version": 3
   },
   "file_extension": ".py",
   "mimetype": "text/x-python",
   "name": "python",
   "nbconvert_exporter": "python",
   "pygments_lexer": "ipython3",
   "version": "3.11.5"
  }
 },
 "nbformat": 4,
 "nbformat_minor": 5
}
