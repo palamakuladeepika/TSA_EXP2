{
 "cells": [
  {
   "cell_type": "code",
   "execution_count": 2,
   "id": "66e27cdf-a166-4fc8-a42e-c76c52e825f0",
   "metadata": {
    "tags": []
   },
   "outputs": [],
   "source": [
    "import pandas as pd\n",
    "import numpy as np\n",
    "import matplotlib.pyplot as plt\n",
    "from tabulate import tabulate\n",
    "%matplotlib inline\n",
    "train = pd.read_csv('AirPassengers.csv')"
   ]
  },
  {
   "cell_type": "code",
   "execution_count": 3,
   "id": "3b51241a-ef91-469b-8876-7879b9bb0a42",
   "metadata": {
    "tags": []
   },
   "outputs": [],
   "source": [
    "train['Month'] = pd.to_datetime(train['Month'], format='%Y-%m')\n",
    "train['Year'] = train['Month'].dt.year"
   ]
  },
  {
   "cell_type": "code",
   "execution_count": 4,
   "id": "b992a4fb-de46-4f60-ac82-1f8b9e551f68",
   "metadata": {
    "tags": []
   },
   "outputs": [
    {
     "data": {
      "text/html": [
       "<div>\n",
       "<style scoped>\n",
       "    .dataframe tbody tr th:only-of-type {\n",
       "        vertical-align: middle;\n",
       "    }\n",
       "\n",
       "    .dataframe tbody tr th {\n",
       "        vertical-align: top;\n",
       "    }\n",
       "\n",
       "    .dataframe thead th {\n",
       "        text-align: right;\n",
       "    }\n",
       "</style>\n",
       "<table border=\"1\" class=\"dataframe\">\n",
       "  <thead>\n",
       "    <tr style=\"text-align: right;\">\n",
       "      <th></th>\n",
       "      <th>Month</th>\n",
       "      <th>#Passengers</th>\n",
       "      <th>Year</th>\n",
       "    </tr>\n",
       "  </thead>\n",
       "  <tbody>\n",
       "    <tr>\n",
       "      <th>0</th>\n",
       "      <td>1949-01-01</td>\n",
       "      <td>112</td>\n",
       "      <td>1949</td>\n",
       "    </tr>\n",
       "    <tr>\n",
       "      <th>1</th>\n",
       "      <td>1949-02-01</td>\n",
       "      <td>118</td>\n",
       "      <td>1949</td>\n",
       "    </tr>\n",
       "    <tr>\n",
       "      <th>2</th>\n",
       "      <td>1949-03-01</td>\n",
       "      <td>132</td>\n",
       "      <td>1949</td>\n",
       "    </tr>\n",
       "    <tr>\n",
       "      <th>3</th>\n",
       "      <td>1949-04-01</td>\n",
       "      <td>129</td>\n",
       "      <td>1949</td>\n",
       "    </tr>\n",
       "    <tr>\n",
       "      <th>4</th>\n",
       "      <td>1949-05-01</td>\n",
       "      <td>121</td>\n",
       "      <td>1949</td>\n",
       "    </tr>\n",
       "  </tbody>\n",
       "</table>\n",
       "</div>"
      ],
      "text/plain": [
       "       Month  #Passengers  Year\n",
       "0 1949-01-01          112  1949\n",
       "1 1949-02-01          118  1949\n",
       "2 1949-03-01          132  1949\n",
       "3 1949-04-01          129  1949\n",
       "4 1949-05-01          121  1949"
      ]
     },
     "execution_count": 4,
     "metadata": {},
     "output_type": "execute_result"
    }
   ],
   "source": [
    "train.head()"
   ]
  },
  {
   "cell_type": "code",
   "execution_count": 5,
   "id": "9e803f96-a15e-425a-aad4-1799facf0883",
   "metadata": {
    "tags": []
   },
   "outputs": [],
   "source": [
    "year = train['Year'].values.reshape(-1, 1)\n",
    "values = train['#Passengers'].values"
   ]
  },
  {
   "cell_type": "code",
   "execution_count": 6,
   "id": "64e998e3-341e-4842-a9dc-4630d04d72a1",
   "metadata": {
    "tags": []
   },
   "outputs": [],
   "source": [
    "x=year\n",
    "y=values"
   ]
  },
  {
   "cell_type": "code",
   "execution_count": 7,
   "id": "5cbab648-78db-4f77-b114-8964ce0320d1",
   "metadata": {
    "tags": []
   },
   "outputs": [],
   "source": [
    "X = [i - x[len(x)//2] for i in x] "
   ]
  },
  {
   "cell_type": "code",
   "execution_count": 8,
   "id": "2ef9443d-446d-4125-9797-3c1c21e2f7c7",
   "metadata": {
    "tags": []
   },
   "outputs": [],
   "source": [
    "x2 = [i ** 2 for i in X]\n",
    "xy = [i * j for i, j in zip(X, y)]"
   ]
  },
  {
   "cell_type": "code",
   "execution_count": 9,
   "id": "a0ec0411-be15-4186-bc5b-df9e2b52036b",
   "metadata": {
    "tags": []
   },
   "outputs": [],
   "source": [
    "table = [[i, j, k, l, m] for i, j, k, l, m in zip(x, y, X, x2, xy)]\n"
   ]
  },
  {
   "cell_type": "code",
   "execution_count": 10,
   "id": "868d3ebc-9ada-4637-bac4-b9ba5663289d",
   "metadata": {
    "tags": []
   },
   "outputs": [
    {
     "name": "stdout",
     "output_type": "stream",
     "text": [
      "+--------+--------+------------+-------+------+\n",
      "|   Year |   Prod |   X=x-2014 |   X^2 |   xy |\n",
      "+========+========+============+=======+======+\n",
      "|   1949 |    112 |         -6 |    36 | -672 |\n",
      "+--------+--------+------------+-------+------+\n",
      "|   1949 |    118 |         -6 |    36 | -708 |\n",
      "+--------+--------+------------+-------+------+\n",
      "|   1949 |    132 |         -6 |    36 | -792 |\n",
      "+--------+--------+------------+-------+------+\n",
      "|   1949 |    129 |         -6 |    36 | -774 |\n",
      "+--------+--------+------------+-------+------+\n",
      "|   1949 |    121 |         -6 |    36 | -726 |\n",
      "+--------+--------+------------+-------+------+\n",
      "|   1949 |    135 |         -6 |    36 | -810 |\n",
      "+--------+--------+------------+-------+------+\n",
      "|   1949 |    148 |         -6 |    36 | -888 |\n",
      "+--------+--------+------------+-------+------+\n",
      "|   1949 |    148 |         -6 |    36 | -888 |\n",
      "+--------+--------+------------+-------+------+\n",
      "|   1949 |    136 |         -6 |    36 | -816 |\n",
      "+--------+--------+------------+-------+------+\n",
      "|   1949 |    119 |         -6 |    36 | -714 |\n",
      "+--------+--------+------------+-------+------+\n",
      "|   1949 |    104 |         -6 |    36 | -624 |\n",
      "+--------+--------+------------+-------+------+\n",
      "|   1949 |    118 |         -6 |    36 | -708 |\n",
      "+--------+--------+------------+-------+------+\n",
      "|   1950 |    115 |         -5 |    25 | -575 |\n",
      "+--------+--------+------------+-------+------+\n",
      "|   1950 |    126 |         -5 |    25 | -630 |\n",
      "+--------+--------+------------+-------+------+\n",
      "|   1950 |    141 |         -5 |    25 | -705 |\n",
      "+--------+--------+------------+-------+------+\n",
      "|   1950 |    135 |         -5 |    25 | -675 |\n",
      "+--------+--------+------------+-------+------+\n",
      "|   1950 |    125 |         -5 |    25 | -625 |\n",
      "+--------+--------+------------+-------+------+\n",
      "|   1950 |    149 |         -5 |    25 | -745 |\n",
      "+--------+--------+------------+-------+------+\n",
      "|   1950 |    170 |         -5 |    25 | -850 |\n",
      "+--------+--------+------------+-------+------+\n",
      "|   1950 |    170 |         -5 |    25 | -850 |\n",
      "+--------+--------+------------+-------+------+\n",
      "|   1950 |    158 |         -5 |    25 | -790 |\n",
      "+--------+--------+------------+-------+------+\n",
      "|   1950 |    133 |         -5 |    25 | -665 |\n",
      "+--------+--------+------------+-------+------+\n",
      "|   1950 |    114 |         -5 |    25 | -570 |\n",
      "+--------+--------+------------+-------+------+\n",
      "|   1950 |    140 |         -5 |    25 | -700 |\n",
      "+--------+--------+------------+-------+------+\n",
      "|   1951 |    145 |         -4 |    16 | -580 |\n",
      "+--------+--------+------------+-------+------+\n",
      "|   1951 |    150 |         -4 |    16 | -600 |\n",
      "+--------+--------+------------+-------+------+\n",
      "|   1951 |    178 |         -4 |    16 | -712 |\n",
      "+--------+--------+------------+-------+------+\n",
      "|   1951 |    163 |         -4 |    16 | -652 |\n",
      "+--------+--------+------------+-------+------+\n",
      "|   1951 |    172 |         -4 |    16 | -688 |\n",
      "+--------+--------+------------+-------+------+\n",
      "|   1951 |    178 |         -4 |    16 | -712 |\n",
      "+--------+--------+------------+-------+------+\n",
      "|   1951 |    199 |         -4 |    16 | -796 |\n",
      "+--------+--------+------------+-------+------+\n",
      "|   1951 |    199 |         -4 |    16 | -796 |\n",
      "+--------+--------+------------+-------+------+\n",
      "|   1951 |    184 |         -4 |    16 | -736 |\n",
      "+--------+--------+------------+-------+------+\n",
      "|   1951 |    162 |         -4 |    16 | -648 |\n",
      "+--------+--------+------------+-------+------+\n",
      "|   1951 |    146 |         -4 |    16 | -584 |\n",
      "+--------+--------+------------+-------+------+\n",
      "|   1951 |    166 |         -4 |    16 | -664 |\n",
      "+--------+--------+------------+-------+------+\n",
      "|   1952 |    171 |         -3 |     9 | -513 |\n",
      "+--------+--------+------------+-------+------+\n",
      "|   1952 |    180 |         -3 |     9 | -540 |\n",
      "+--------+--------+------------+-------+------+\n",
      "|   1952 |    193 |         -3 |     9 | -579 |\n",
      "+--------+--------+------------+-------+------+\n",
      "|   1952 |    181 |         -3 |     9 | -543 |\n",
      "+--------+--------+------------+-------+------+\n",
      "|   1952 |    183 |         -3 |     9 | -549 |\n",
      "+--------+--------+------------+-------+------+\n",
      "|   1952 |    218 |         -3 |     9 | -654 |\n",
      "+--------+--------+------------+-------+------+\n",
      "|   1952 |    230 |         -3 |     9 | -690 |\n",
      "+--------+--------+------------+-------+------+\n",
      "|   1952 |    242 |         -3 |     9 | -726 |\n",
      "+--------+--------+------------+-------+------+\n",
      "|   1952 |    209 |         -3 |     9 | -627 |\n",
      "+--------+--------+------------+-------+------+\n",
      "|   1952 |    191 |         -3 |     9 | -573 |\n",
      "+--------+--------+------------+-------+------+\n",
      "|   1952 |    172 |         -3 |     9 | -516 |\n",
      "+--------+--------+------------+-------+------+\n",
      "|   1952 |    194 |         -3 |     9 | -582 |\n",
      "+--------+--------+------------+-------+------+\n",
      "|   1953 |    196 |         -2 |     4 | -392 |\n",
      "+--------+--------+------------+-------+------+\n",
      "|   1953 |    196 |         -2 |     4 | -392 |\n",
      "+--------+--------+------------+-------+------+\n",
      "|   1953 |    236 |         -2 |     4 | -472 |\n",
      "+--------+--------+------------+-------+------+\n",
      "|   1953 |    235 |         -2 |     4 | -470 |\n",
      "+--------+--------+------------+-------+------+\n",
      "|   1953 |    229 |         -2 |     4 | -458 |\n",
      "+--------+--------+------------+-------+------+\n",
      "|   1953 |    243 |         -2 |     4 | -486 |\n",
      "+--------+--------+------------+-------+------+\n",
      "|   1953 |    264 |         -2 |     4 | -528 |\n",
      "+--------+--------+------------+-------+------+\n",
      "|   1953 |    272 |         -2 |     4 | -544 |\n",
      "+--------+--------+------------+-------+------+\n",
      "|   1953 |    237 |         -2 |     4 | -474 |\n",
      "+--------+--------+------------+-------+------+\n",
      "|   1953 |    211 |         -2 |     4 | -422 |\n",
      "+--------+--------+------------+-------+------+\n",
      "|   1953 |    180 |         -2 |     4 | -360 |\n",
      "+--------+--------+------------+-------+------+\n",
      "|   1953 |    201 |         -2 |     4 | -402 |\n",
      "+--------+--------+------------+-------+------+\n",
      "|   1954 |    204 |         -1 |     1 | -204 |\n",
      "+--------+--------+------------+-------+------+\n",
      "|   1954 |    188 |         -1 |     1 | -188 |\n",
      "+--------+--------+------------+-------+------+\n",
      "|   1954 |    235 |         -1 |     1 | -235 |\n",
      "+--------+--------+------------+-------+------+\n",
      "|   1954 |    227 |         -1 |     1 | -227 |\n",
      "+--------+--------+------------+-------+------+\n",
      "|   1954 |    234 |         -1 |     1 | -234 |\n",
      "+--------+--------+------------+-------+------+\n",
      "|   1954 |    264 |         -1 |     1 | -264 |\n",
      "+--------+--------+------------+-------+------+\n",
      "|   1954 |    302 |         -1 |     1 | -302 |\n",
      "+--------+--------+------------+-------+------+\n",
      "|   1954 |    293 |         -1 |     1 | -293 |\n",
      "+--------+--------+------------+-------+------+\n",
      "|   1954 |    259 |         -1 |     1 | -259 |\n",
      "+--------+--------+------------+-------+------+\n",
      "|   1954 |    229 |         -1 |     1 | -229 |\n",
      "+--------+--------+------------+-------+------+\n",
      "|   1954 |    203 |         -1 |     1 | -203 |\n",
      "+--------+--------+------------+-------+------+\n",
      "|   1954 |    229 |         -1 |     1 | -229 |\n",
      "+--------+--------+------------+-------+------+\n",
      "|   1955 |    242 |          0 |     0 |    0 |\n",
      "+--------+--------+------------+-------+------+\n",
      "|   1955 |    233 |          0 |     0 |    0 |\n",
      "+--------+--------+------------+-------+------+\n",
      "|   1955 |    267 |          0 |     0 |    0 |\n",
      "+--------+--------+------------+-------+------+\n",
      "|   1955 |    269 |          0 |     0 |    0 |\n",
      "+--------+--------+------------+-------+------+\n",
      "|   1955 |    270 |          0 |     0 |    0 |\n",
      "+--------+--------+------------+-------+------+\n",
      "|   1955 |    315 |          0 |     0 |    0 |\n",
      "+--------+--------+------------+-------+------+\n",
      "|   1955 |    364 |          0 |     0 |    0 |\n",
      "+--------+--------+------------+-------+------+\n",
      "|   1955 |    347 |          0 |     0 |    0 |\n",
      "+--------+--------+------------+-------+------+\n",
      "|   1955 |    312 |          0 |     0 |    0 |\n",
      "+--------+--------+------------+-------+------+\n",
      "|   1955 |    274 |          0 |     0 |    0 |\n",
      "+--------+--------+------------+-------+------+\n",
      "|   1955 |    237 |          0 |     0 |    0 |\n",
      "+--------+--------+------------+-------+------+\n",
      "|   1955 |    278 |          0 |     0 |    0 |\n",
      "+--------+--------+------------+-------+------+\n",
      "|   1956 |    284 |          1 |     1 |  284 |\n",
      "+--------+--------+------------+-------+------+\n",
      "|   1956 |    277 |          1 |     1 |  277 |\n",
      "+--------+--------+------------+-------+------+\n",
      "|   1956 |    317 |          1 |     1 |  317 |\n",
      "+--------+--------+------------+-------+------+\n",
      "|   1956 |    313 |          1 |     1 |  313 |\n",
      "+--------+--------+------------+-------+------+\n",
      "|   1956 |    318 |          1 |     1 |  318 |\n",
      "+--------+--------+------------+-------+------+\n",
      "|   1956 |    374 |          1 |     1 |  374 |\n",
      "+--------+--------+------------+-------+------+\n",
      "|   1956 |    413 |          1 |     1 |  413 |\n",
      "+--------+--------+------------+-------+------+\n",
      "|   1956 |    405 |          1 |     1 |  405 |\n",
      "+--------+--------+------------+-------+------+\n",
      "|   1956 |    355 |          1 |     1 |  355 |\n",
      "+--------+--------+------------+-------+------+\n",
      "|   1956 |    306 |          1 |     1 |  306 |\n",
      "+--------+--------+------------+-------+------+\n",
      "|   1956 |    271 |          1 |     1 |  271 |\n",
      "+--------+--------+------------+-------+------+\n",
      "|   1956 |    306 |          1 |     1 |  306 |\n",
      "+--------+--------+------------+-------+------+\n",
      "|   1957 |    315 |          2 |     4 |  630 |\n",
      "+--------+--------+------------+-------+------+\n",
      "|   1957 |    301 |          2 |     4 |  602 |\n",
      "+--------+--------+------------+-------+------+\n",
      "|   1957 |    356 |          2 |     4 |  712 |\n",
      "+--------+--------+------------+-------+------+\n",
      "|   1957 |    348 |          2 |     4 |  696 |\n",
      "+--------+--------+------------+-------+------+\n",
      "|   1957 |    355 |          2 |     4 |  710 |\n",
      "+--------+--------+------------+-------+------+\n",
      "|   1957 |    422 |          2 |     4 |  844 |\n",
      "+--------+--------+------------+-------+------+\n",
      "|   1957 |    465 |          2 |     4 |  930 |\n",
      "+--------+--------+------------+-------+------+\n",
      "|   1957 |    467 |          2 |     4 |  934 |\n",
      "+--------+--------+------------+-------+------+\n",
      "|   1957 |    404 |          2 |     4 |  808 |\n",
      "+--------+--------+------------+-------+------+\n",
      "|   1957 |    347 |          2 |     4 |  694 |\n",
      "+--------+--------+------------+-------+------+\n",
      "|   1957 |    305 |          2 |     4 |  610 |\n",
      "+--------+--------+------------+-------+------+\n",
      "|   1957 |    336 |          2 |     4 |  672 |\n",
      "+--------+--------+------------+-------+------+\n",
      "|   1958 |    340 |          3 |     9 | 1020 |\n",
      "+--------+--------+------------+-------+------+\n",
      "|   1958 |    318 |          3 |     9 |  954 |\n",
      "+--------+--------+------------+-------+------+\n",
      "|   1958 |    362 |          3 |     9 | 1086 |\n",
      "+--------+--------+------------+-------+------+\n",
      "|   1958 |    348 |          3 |     9 | 1044 |\n",
      "+--------+--------+------------+-------+------+\n",
      "|   1958 |    363 |          3 |     9 | 1089 |\n",
      "+--------+--------+------------+-------+------+\n",
      "|   1958 |    435 |          3 |     9 | 1305 |\n",
      "+--------+--------+------------+-------+------+\n",
      "|   1958 |    491 |          3 |     9 | 1473 |\n",
      "+--------+--------+------------+-------+------+\n",
      "|   1958 |    505 |          3 |     9 | 1515 |\n",
      "+--------+--------+------------+-------+------+\n",
      "|   1958 |    404 |          3 |     9 | 1212 |\n",
      "+--------+--------+------------+-------+------+\n",
      "|   1958 |    359 |          3 |     9 | 1077 |\n",
      "+--------+--------+------------+-------+------+\n",
      "|   1958 |    310 |          3 |     9 |  930 |\n",
      "+--------+--------+------------+-------+------+\n",
      "|   1958 |    337 |          3 |     9 | 1011 |\n",
      "+--------+--------+------------+-------+------+\n",
      "|   1959 |    360 |          4 |    16 | 1440 |\n",
      "+--------+--------+------------+-------+------+\n",
      "|   1959 |    342 |          4 |    16 | 1368 |\n",
      "+--------+--------+------------+-------+------+\n",
      "|   1959 |    406 |          4 |    16 | 1624 |\n",
      "+--------+--------+------------+-------+------+\n",
      "|   1959 |    396 |          4 |    16 | 1584 |\n",
      "+--------+--------+------------+-------+------+\n",
      "|   1959 |    420 |          4 |    16 | 1680 |\n",
      "+--------+--------+------------+-------+------+\n",
      "|   1959 |    472 |          4 |    16 | 1888 |\n",
      "+--------+--------+------------+-------+------+\n",
      "|   1959 |    548 |          4 |    16 | 2192 |\n",
      "+--------+--------+------------+-------+------+\n",
      "|   1959 |    559 |          4 |    16 | 2236 |\n",
      "+--------+--------+------------+-------+------+\n",
      "|   1959 |    463 |          4 |    16 | 1852 |\n",
      "+--------+--------+------------+-------+------+\n",
      "|   1959 |    407 |          4 |    16 | 1628 |\n",
      "+--------+--------+------------+-------+------+\n",
      "|   1959 |    362 |          4 |    16 | 1448 |\n",
      "+--------+--------+------------+-------+------+\n",
      "|   1959 |    405 |          4 |    16 | 1620 |\n",
      "+--------+--------+------------+-------+------+\n",
      "|   1960 |    417 |          5 |    25 | 2085 |\n",
      "+--------+--------+------------+-------+------+\n",
      "|   1960 |    391 |          5 |    25 | 1955 |\n",
      "+--------+--------+------------+-------+------+\n",
      "|   1960 |    419 |          5 |    25 | 2095 |\n",
      "+--------+--------+------------+-------+------+\n",
      "|   1960 |    461 |          5 |    25 | 2305 |\n",
      "+--------+--------+------------+-------+------+\n",
      "|   1960 |    472 |          5 |    25 | 2360 |\n",
      "+--------+--------+------------+-------+------+\n",
      "|   1960 |    535 |          5 |    25 | 2675 |\n",
      "+--------+--------+------------+-------+------+\n",
      "|   1960 |    622 |          5 |    25 | 3110 |\n",
      "+--------+--------+------------+-------+------+\n",
      "|   1960 |    606 |          5 |    25 | 3030 |\n",
      "+--------+--------+------------+-------+------+\n",
      "|   1960 |    508 |          5 |    25 | 2540 |\n",
      "+--------+--------+------------+-------+------+\n",
      "|   1960 |    461 |          5 |    25 | 2305 |\n",
      "+--------+--------+------------+-------+------+\n",
      "|   1960 |    390 |          5 |    25 | 1950 |\n",
      "+--------+--------+------------+-------+------+\n",
      "|   1960 |    432 |          5 |    25 | 2160 |\n",
      "+--------+--------+------------+-------+------+\n"
     ]
    }
   ],
   "source": [
    "print(tabulate(table, headers=[\"Year\", \"Prod\", \"X=x-2014\", \"X^2\", \"xy\"], tablefmt=\"grid\"))"
   ]
  },
  {
   "cell_type": "code",
   "execution_count": 39,
   "id": "8d265db5-32c5-40bb-bf0b-efdfabb96c3d",
   "metadata": {
    "tags": []
   },
   "outputs": [
    {
     "data": {
      "text/html": [
       "<style>#sk-container-id-2 {color: black;}#sk-container-id-2 pre{padding: 0;}#sk-container-id-2 div.sk-toggleable {background-color: white;}#sk-container-id-2 label.sk-toggleable__label {cursor: pointer;display: block;width: 100%;margin-bottom: 0;padding: 0.3em;box-sizing: border-box;text-align: center;}#sk-container-id-2 label.sk-toggleable__label-arrow:before {content: \"▸\";float: left;margin-right: 0.25em;color: #696969;}#sk-container-id-2 label.sk-toggleable__label-arrow:hover:before {color: black;}#sk-container-id-2 div.sk-estimator:hover label.sk-toggleable__label-arrow:before {color: black;}#sk-container-id-2 div.sk-toggleable__content {max-height: 0;max-width: 0;overflow: hidden;text-align: left;background-color: #f0f8ff;}#sk-container-id-2 div.sk-toggleable__content pre {margin: 0.2em;color: black;border-radius: 0.25em;background-color: #f0f8ff;}#sk-container-id-2 input.sk-toggleable__control:checked~div.sk-toggleable__content {max-height: 200px;max-width: 100%;overflow: auto;}#sk-container-id-2 input.sk-toggleable__control:checked~label.sk-toggleable__label-arrow:before {content: \"▾\";}#sk-container-id-2 div.sk-estimator input.sk-toggleable__control:checked~label.sk-toggleable__label {background-color: #d4ebff;}#sk-container-id-2 div.sk-label input.sk-toggleable__control:checked~label.sk-toggleable__label {background-color: #d4ebff;}#sk-container-id-2 input.sk-hidden--visually {border: 0;clip: rect(1px 1px 1px 1px);clip: rect(1px, 1px, 1px, 1px);height: 1px;margin: -1px;overflow: hidden;padding: 0;position: absolute;width: 1px;}#sk-container-id-2 div.sk-estimator {font-family: monospace;background-color: #f0f8ff;border: 1px dotted black;border-radius: 0.25em;box-sizing: border-box;margin-bottom: 0.5em;}#sk-container-id-2 div.sk-estimator:hover {background-color: #d4ebff;}#sk-container-id-2 div.sk-parallel-item::after {content: \"\";width: 100%;border-bottom: 1px solid gray;flex-grow: 1;}#sk-container-id-2 div.sk-label:hover label.sk-toggleable__label {background-color: #d4ebff;}#sk-container-id-2 div.sk-serial::before {content: \"\";position: absolute;border-left: 1px solid gray;box-sizing: border-box;top: 0;bottom: 0;left: 50%;z-index: 0;}#sk-container-id-2 div.sk-serial {display: flex;flex-direction: column;align-items: center;background-color: white;padding-right: 0.2em;padding-left: 0.2em;position: relative;}#sk-container-id-2 div.sk-item {position: relative;z-index: 1;}#sk-container-id-2 div.sk-parallel {display: flex;align-items: stretch;justify-content: center;background-color: white;position: relative;}#sk-container-id-2 div.sk-item::before, #sk-container-id-2 div.sk-parallel-item::before {content: \"\";position: absolute;border-left: 1px solid gray;box-sizing: border-box;top: 0;bottom: 0;left: 50%;z-index: -1;}#sk-container-id-2 div.sk-parallel-item {display: flex;flex-direction: column;z-index: 1;position: relative;background-color: white;}#sk-container-id-2 div.sk-parallel-item:first-child::after {align-self: flex-end;width: 50%;}#sk-container-id-2 div.sk-parallel-item:last-child::after {align-self: flex-start;width: 50%;}#sk-container-id-2 div.sk-parallel-item:only-child::after {width: 0;}#sk-container-id-2 div.sk-dashed-wrapped {border: 1px dashed gray;margin: 0 0.4em 0.5em 0.4em;box-sizing: border-box;padding-bottom: 0.4em;background-color: white;}#sk-container-id-2 div.sk-label label {font-family: monospace;font-weight: bold;display: inline-block;line-height: 1.2em;}#sk-container-id-2 div.sk-label-container {text-align: center;}#sk-container-id-2 div.sk-container {/* jupyter's `normalize.less` sets `[hidden] { display: none; }` but bootstrap.min.css set `[hidden] { display: none !important; }` so we also need the `!important` here to be able to override the default hidden behavior on the sphinx rendered scikit-learn.org. See: https://github.com/scikit-learn/scikit-learn/issues/21755 */display: inline-block !important;position: relative;}#sk-container-id-2 div.sk-text-repr-fallback {display: none;}</style><div id=\"sk-container-id-2\" class=\"sk-top-container\"><div class=\"sk-text-repr-fallback\"><pre>LinearRegression()</pre><b>In a Jupyter environment, please rerun this cell to show the HTML representation or trust the notebook. <br />On GitHub, the HTML representation is unable to render, please try loading this page with nbviewer.org.</b></div><div class=\"sk-container\" hidden><div class=\"sk-item\"><div class=\"sk-estimator sk-toggleable\"><input class=\"sk-toggleable__control sk-hidden--visually\" id=\"sk-estimator-id-2\" type=\"checkbox\" checked><label for=\"sk-estimator-id-2\" class=\"sk-toggleable__label sk-toggleable__label-arrow\">LinearRegression</label><div class=\"sk-toggleable__content\"><pre>LinearRegression()</pre></div></div></div></div></div>"
      ],
      "text/plain": [
       "LinearRegression()"
      ]
     },
     "execution_count": 39,
     "metadata": {},
     "output_type": "execute_result"
    }
   ],
   "source": [
    "from sklearn.linear_model import LinearRegression\n",
    "lin = LinearRegression()\n",
    "lin.fit(X, y)"
   ]
  },
  {
   "cell_type": "code",
   "execution_count": 40,
   "id": "6c4dd252-e6dd-4095-8e95-1eff663f91fb",
   "metadata": {
    "tags": []
   },
   "outputs": [
    {
     "name": "stdout",
     "output_type": "stream",
     "text": [
      "a=296.3,b=31.9\n"
     ]
    }
   ],
   "source": [
    "n=len(x)\n",
    "b=(n*sum(xy)-sum(y)*sum(X))/(n*sum(x2)-(sum(X)**2))\n",
    "a=(sum(y)-b*sum(X))/n\n",
    "print(\"a=%.1f,b=%.1f\"%(a,b))"
   ]
  },
  {
   "cell_type": "code",
   "execution_count": 41,
   "id": "a958225c-0443-40a7-82ee-ed8eba30d61f",
   "metadata": {
    "tags": []
   },
   "outputs": [],
   "source": [
    "l=[]"
   ]
  },
  {
   "cell_type": "code",
   "execution_count": 42,
   "id": "c711c262-9d1d-45ac-801f-fe7708f3325c",
   "metadata": {
    "tags": []
   },
   "outputs": [
    {
     "name": "stdout",
     "output_type": "stream",
     "text": [
      "Trend Equation : y=296+31.92x\n"
     ]
    }
   ],
   "source": [
    "for i in range(n):\n",
    "  l.append(a+b*X[i]);\n",
    "print(\"Trend Equation : y=%d+%.2fx\"%(a,b))"
   ]
  },
  {
   "cell_type": "code",
   "execution_count": 47,
   "id": "273a79ca-b915-467e-b92e-b824910f1e67",
   "metadata": {
    "tags": []
   },
   "outputs": [
    {
     "data": {
      "image/png": "[encoded data removed]",
      "text/plain": [
       "<Figure size 640x480 with 1 Axes>"
      ]
     },
     "metadata": {},
     "output_type": "display_data"
    }
   ],
   "source": [
    "import matplotlib.pyplot as plt\n",
    "plt.title(\"Linear Trend Graph\")\n",
    "plt.xlabel(\"Year\")\n",
    "plt.ylabel(\"Passengers\")\n",
    "plt.plot(x,l,color='red')\n",
    "plt.show()"
   ]
  },
  {
   "cell_type": "code",
   "execution_count": 46,
   "id": "1a2fc369-84ad-4ccf-ac3a-531cd55cf6c8",
   "metadata": {
    "tags": []
   },
   "outputs": [
    {
     "data": {
      "text/plain": [
       "array([3807.89520202])"
      ]
     },
     "execution_count": 46,
     "metadata": {},
     "output_type": "execute_result"
    }
   ],
   "source": [
    "pred = 110.0\n",
    "predarray = np.array([[pred]])\n",
    "lin.predict(predarray)"
   ]
  }
 ],
 "metadata": {
  "kernelspec": {
   "display_name": "Python 3 (ipykernel)",
   "language": "python",
   "name": "python3"
  },
  "language_info": {
   "codemirror_mode": {
    "name": "ipython",
    "version": 3
   },
   "file_extension": ".py",
   "mimetype": "text/x-python",
   "name": "python",
   "nbconvert_exporter": "python",
   "pygments_lexer": "ipython3",
   "version": "3.11.5"
  }
 },
 "nbformat": 4,
 "nbformat_minor": 5
}
